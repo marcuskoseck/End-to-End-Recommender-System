{
 "cells": [
  {
   "cell_type": "code",
   "execution_count": 1,
   "id": "7e5d8cd8",
   "metadata": {},
   "outputs": [],
   "source": [
    "import numpy as np\n",
    "import pandas as pd\n",
    "import matplotlib.pyplot as plt\n",
    "import re\n",
    "from sklearn.feature_extraction.text import TfidfVectorizer\n",
    "from sklearn.metrics.pairwise import linear_kernel"
   ]
  },
  {
   "cell_type": "code",
   "execution_count": 2,
   "id": "8719223e",
   "metadata": {},
   "outputs": [],
   "source": [
    "data_path = r\"C:\\Users\\marcu\\Documents\\machine_learning_projects\\recipe_recommender\\data\\imdb\\all_data\\TMDb_updated.CSV\"\n",
    "df = pd.read_csv(data_path)"
   ]
  },
  {
   "cell_type": "code",
   "execution_count": 3,
   "id": "28d10386",
   "metadata": {},
   "outputs": [
    {
     "data": {
      "text/html": [
       "<div>\n",
       "<style scoped>\n",
       "    .dataframe tbody tr th:only-of-type {\n",
       "        vertical-align: middle;\n",
       "    }\n",
       "\n",
       "    .dataframe tbody tr th {\n",
       "        vertical-align: top;\n",
       "    }\n",
       "\n",
       "    .dataframe thead th {\n",
       "        text-align: right;\n",
       "    }\n",
       "</style>\n",
       "<table border=\"1\" class=\"dataframe\">\n",
       "  <thead>\n",
       "    <tr style=\"text-align: right;\">\n",
       "      <th></th>\n",
       "      <th>Unnamed: 0</th>\n",
       "      <th>title</th>\n",
       "      <th>overview</th>\n",
       "      <th>original_language</th>\n",
       "      <th>vote_count</th>\n",
       "      <th>vote_average</th>\n",
       "    </tr>\n",
       "  </thead>\n",
       "  <tbody>\n",
       "    <tr>\n",
       "      <th>0</th>\n",
       "      <td>0</td>\n",
       "      <td>Ad Astra</td>\n",
       "      <td>The near future, a time when both hope and har...</td>\n",
       "      <td>en</td>\n",
       "      <td>2853</td>\n",
       "      <td>5.9</td>\n",
       "    </tr>\n",
       "    <tr>\n",
       "      <th>1</th>\n",
       "      <td>1</td>\n",
       "      <td>Bloodshot</td>\n",
       "      <td>After he and his wife are murdered, marine Ray...</td>\n",
       "      <td>en</td>\n",
       "      <td>1349</td>\n",
       "      <td>7.2</td>\n",
       "    </tr>\n",
       "    <tr>\n",
       "      <th>2</th>\n",
       "      <td>2</td>\n",
       "      <td>Bad Boys for Life</td>\n",
       "      <td>Marcus and Mike are forced to confront new thr...</td>\n",
       "      <td>en</td>\n",
       "      <td>2530</td>\n",
       "      <td>7.1</td>\n",
       "    </tr>\n",
       "    <tr>\n",
       "      <th>3</th>\n",
       "      <td>3</td>\n",
       "      <td>Ant-Man</td>\n",
       "      <td>Armed with the astonishing ability to shrink i...</td>\n",
       "      <td>en</td>\n",
       "      <td>13611</td>\n",
       "      <td>7.1</td>\n",
       "    </tr>\n",
       "    <tr>\n",
       "      <th>4</th>\n",
       "      <td>4</td>\n",
       "      <td>Percy Jackson: Sea of Monsters</td>\n",
       "      <td>In their quest to confront the ultimate evil, ...</td>\n",
       "      <td>en</td>\n",
       "      <td>3542</td>\n",
       "      <td>5.9</td>\n",
       "    </tr>\n",
       "  </tbody>\n",
       "</table>\n",
       "</div>"
      ],
      "text/plain": [
       "   Unnamed: 0                           title  \\\n",
       "0           0                        Ad Astra   \n",
       "1           1                       Bloodshot   \n",
       "2           2               Bad Boys for Life   \n",
       "3           3                         Ant-Man   \n",
       "4           4  Percy Jackson: Sea of Monsters   \n",
       "\n",
       "                                            overview original_language  \\\n",
       "0  The near future, a time when both hope and har...                en   \n",
       "1  After he and his wife are murdered, marine Ray...                en   \n",
       "2  Marcus and Mike are forced to confront new thr...                en   \n",
       "3  Armed with the astonishing ability to shrink i...                en   \n",
       "4  In their quest to confront the ultimate evil, ...                en   \n",
       "\n",
       "   vote_count  vote_average  \n",
       "0        2853           5.9  \n",
       "1        1349           7.2  \n",
       "2        2530           7.1  \n",
       "3       13611           7.1  \n",
       "4        3542           5.9  "
      ]
     },
     "execution_count": 3,
     "metadata": {},
     "output_type": "execute_result"
    }
   ],
   "source": [
    "df.head()"
   ]
  },
  {
   "cell_type": "code",
   "execution_count": 12,
   "id": "1e612410",
   "metadata": {},
   "outputs": [
    {
     "data": {
      "text/plain": [
       "(array([ 283.,  113.,  165.,  300., 1943., 2921., 2253., 1268.,  607.,\n",
       "         147.]),\n",
       " array([ 0.        ,  1.01325734,  2.02651468,  3.03977202,  4.05302937,\n",
       "         5.06628671,  6.07954405,  7.09280139,  8.10605873,  9.11931607,\n",
       "        10.13257341]),\n",
       " <BarContainer object of 10 artists>)"
      ]
     },
     "execution_count": 12,
     "metadata": {},
     "output_type": "execute_result"
    },
    {
     "data": {
      "image/png": "[encoded data removed]",
      "text/plain": [
       "<Figure size 640x480 with 1 Axes>"
      ]
     },
     "metadata": {},
     "output_type": "display_data"
    }
   ],
   "source": [
    "plt.hist(np.log(df[\"vote_count\"]+1))"
   ]
  },
  {
   "cell_type": "code",
   "execution_count": 5,
   "id": "3aa9a4b6",
   "metadata": {},
   "outputs": [
    {
     "data": {
      "text/plain": [
       "(array([2.430e+02, 3.000e+00, 1.400e+01, 6.500e+01, 4.550e+02, 2.131e+03,\n",
       "        4.006e+03, 2.689e+03, 3.800e+02, 1.400e+01]),\n",
       " array([ 0.,  1.,  2.,  3.,  4.,  5.,  6.,  7.,  8.,  9., 10.]),\n",
       " <BarContainer object of 10 artists>)"
      ]
     },
     "execution_count": 5,
     "metadata": {},
     "output_type": "execute_result"
    },
    {
     "data": {
      "image/png": "[encoded data removed]",
      "text/plain": [
       "<Figure size 640x480 with 1 Axes>"
      ]
     },
     "metadata": {},
     "output_type": "display_data"
    }
   ],
   "source": [
    "plt.hist(df[\"vote_average\"])"
   ]
  },
  {
   "cell_type": "code",
   "execution_count": 6,
   "id": "0d863289",
   "metadata": {},
   "outputs": [],
   "source": [
    "def clean_text(text):\n",
    "    #text = df[\"overview\"].iloc[0]\n",
    "    return re.sub(r'[^\\w\\s]', '', text)\n",
    "text = df[\"overview\"].str.replace(r'[^\\w\\s]', '',regex=True)\n",
    "text = text[~text.isna()]\n",
    "text = text[text.str.strip() != '']\n",
    "#print(text)\n",
    "# try:\n",
    "#     df[\"overview\"].apply(clean_text)\n",
    "# except:\n",
    "#     print(df[\"overview\"].apply(clean_text))\n",
    "# Output: Hello world Hows everything\n",
    "vectorizer = TfidfVectorizer()\n",
    "# documents = [i for i in text]\n",
    "# print(documents)\n",
    "# documents\n",
    "tfidf_matrix = vectorizer.fit_transform(text.tolist())"
   ]
  },
  {
   "cell_type": "code",
   "execution_count": 7,
   "id": "d0721e09",
   "metadata": {},
   "outputs": [],
   "source": [
    "cosine_sim = linear_kernel(tfidf_matrix,tfidf_matrix)"
   ]
  },
  {
   "cell_type": "code",
   "execution_count": 8,
   "id": "591d14a6",
   "metadata": {},
   "outputs": [
    {
     "data": {
      "text/plain": [
       "Index([   0,    1,    2,    3,    4,    5,    6,    7,    8,    9,\n",
       "       ...\n",
       "       9990, 9991, 9992, 9993, 9994, 9995, 9996, 9997, 9998, 9999],\n",
       "      dtype='int64', length=9970)"
      ]
     },
     "execution_count": 8,
     "metadata": {},
     "output_type": "execute_result"
    }
   ],
   "source": [
    "text.index"
   ]
  },
  {
   "cell_type": "code",
   "execution_count": 9,
   "id": "dde78758",
   "metadata": {},
   "outputs": [],
   "source": [
    "def recommend(title, cosine_sim=cosine_sim, df=df):\n",
    "    idx = df[\"title\"] == title\n",
    "    sim_scores = cosine_sim[idx][0]\n",
    "    top_idx = np.argsort(sim_scores)[::-1]\n",
    "    sim_scores = sim_scores[top_idx]\n",
    "    # sort by similarity score, highest first\n",
    "    # skip itself (the first entry)\n",
    "    top_idx = top_idx[1:6]\n",
    "    # return the recommended titles\n",
    "    #print(df['title'].iloc[top_idx])\n",
    "    return df['title'].iloc[top_idx]\n",
    "\n"
   ]
  },
  {
   "cell_type": "code",
   "execution_count": null,
   "id": "28df8234",
   "metadata": {},
   "outputs": [
    {
     "name": "stdout",
     "output_type": "stream",
     "text": [
      "Recommended from Kronk's New Groove\n"
     ]
    },
    {
     "data": {
      "text/plain": [
       "6846                  Little Boy\n",
       "5786                The Haunting\n",
       "8758                Fathers' Day\n",
       "387                  Ratatouille\n",
       "1680    Honey, I Shrunk the Kids\n",
       "Name: title, dtype: object"
      ]
     },
     "execution_count": 18,
     "metadata": {},
     "output_type": "execute_result"
    },
    {
     "ename": "",
     "evalue": "",
     "output_type": "error",
     "traceback": [
      "\u001b[1;31mThe Kernel crashed while executing code in the current cell or a previous cell. \n",
      "\u001b[1;31mPlease review the code in the cell(s) to identify a possible cause of the failure. \n",
      "\u001b[1;31mClick <a href='https://aka.ms/vscodeJupyterKernelCrash'>here</a> for more info. \n",
      "\u001b[1;31mView Jupyter <a href='command:jupyter.viewOutput'>log</a> for further details."
     ]
    }
   ],
   "source": [
    "updated_df = df.loc[text.index]\n",
    "randomly_selected_title = updated_df[\"title\"].sample().iloc[0]\n",
    "print(f\"Recommended from {randomly_selected_title}\")\n",
    "recommendations = recommend(randomly_selected_title,cosine_sim,updated_df)\n",
    "recommendations"
   ]
  }
 ],
 "metadata": {
  "kernelspec": {
   "display_name": ".venv",
   "language": "python",
   "name": "python3"
  },
  "language_info": {
   "codemirror_mode": {
    "name": "ipython",
    "version": 3
   },
   "file_extension": ".py",
   "mimetype": "text/x-python",
   "name": "python",
   "nbconvert_exporter": "python",
   "pygments_lexer": "ipython3",
   "version": "3.10.7"
  }
 },
 "nbformat": 4,
 "nbformat_minor": 5
}
